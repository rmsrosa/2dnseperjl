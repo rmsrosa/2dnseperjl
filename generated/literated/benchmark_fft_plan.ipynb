{
 "cells": [
  {
   "cell_type": "markdown",
   "source": [
    "# Benchmarking flags for FFTW plans"
   ],
   "metadata": {}
  },
  {
   "cell_type": "markdown",
   "source": [
    "We test planning the FFTW with different flags."
   ],
   "metadata": {}
  },
  {
   "cell_type": "markdown",
   "source": [
    "Here are the packages we need."
   ],
   "metadata": {}
  },
  {
   "outputs": [],
   "cell_type": "code",
   "source": [
    "using FFTW\n",
    "using Plots\n",
    "using LinearAlgebra: mul!\n",
    "using Test\n",
    "using BenchmarkTools\n",
    "using Random\n",
    "using BenchmarkPlots\n",
    "using StatsPlots\n",
    "\n",
    "@info \"Threads: $(FFTW.nthreads())\""
   ],
   "metadata": {},
   "execution_count": null
  },
  {
   "cell_type": "markdown",
   "source": [
    "## Preparing the benchmarks"
   ],
   "metadata": {}
  },
  {
   "cell_type": "markdown",
   "source": [
    "We prepare a suite of benchmarks, using [BenchmarkTools.BenchmarkGroup()](https://juliaci.github.io/BenchmarkTools.jl/stable/manual/#The-BenchmarkGroup-type)."
   ],
   "metadata": {}
  },
  {
   "cell_type": "markdown",
   "source": [
    "The best plan usually depends on the size of the array, which in this case is $N \\times N$. In particular, it depens on the factorization of $N$. So, we benchmark different values of $N$."
   ],
   "metadata": {}
  },
  {
   "cell_type": "markdown",
   "source": [
    "We choose the following values:"
   ],
   "metadata": {}
  },
  {
   "outputs": [],
   "cell_type": "code",
   "source": [
    "Ns = [2^6, 3^4, 2 * 3 * 5 * 7, 2^8, 2^2 * 3^2 * 5^2, 2^10, 2^11, 2^2 * 3 * 5^2 * 7]"
   ],
   "metadata": {},
   "execution_count": null
  },
  {
   "cell_type": "markdown",
   "source": [
    "We must also prepare some other variables."
   ],
   "metadata": {}
  },
  {
   "cell_type": "markdown",
   "source": [
    "List of flags for planning the FFTs:"
   ],
   "metadata": {}
  },
  {
   "outputs": [],
   "cell_type": "code",
   "source": [
    "flags = [\"ESTIMATE\", \"MEASURE\", \"PATIENT\", \"EXHAUSTIVE\"]\n",
    "ext_flags = [\"NO PLAN\", flags...]\n",
    "nothing"
   ],
   "metadata": {},
   "execution_count": null
  },
  {
   "cell_type": "markdown",
   "source": [
    "Physical space:"
   ],
   "metadata": {}
  },
  {
   "outputs": [],
   "cell_type": "code",
   "source": [
    "L = 2π\n",
    "κ₀ = 2π/L\n",
    "nothing"
   ],
   "metadata": {},
   "execution_count": null
  },
  {
   "cell_type": "markdown",
   "source": [
    "Excited modes for testing field:"
   ],
   "metadata": {}
  },
  {
   "outputs": [],
   "cell_type": "code",
   "source": [
    "rng = Xoshiro(123)\n",
    "num_modes = 24\n",
    "max_mode = 16\n",
    "\n",
    "kxs = rand(rng, 1:max_mode, num_modes)\n",
    "kys = rand(rng, 1:max_mode, num_modes)\n",
    "ars = 10*randn(rng, num_modes)\n",
    "ais = 10*randn(rng, num_modes)\n",
    "nothing"
   ],
   "metadata": {},
   "execution_count": null
  },
  {
   "cell_type": "markdown",
   "source": [
    "The suite of benchmarks:"
   ],
   "metadata": {}
  },
  {
   "outputs": [],
   "cell_type": "code",
   "source": [
    "suite = BenchmarkGroup()\n",
    "for flag in ext_flags\n",
    "    suite[flag] = BenchmarkGroup()\n",
    "end\n",
    "\n",
    "plan_stats = Dict{String, Dict{Int, Float64}}(flag => Dict() for flag in flags)"
   ],
   "metadata": {},
   "execution_count": null
  },
  {
   "cell_type": "markdown",
   "source": [
    "Now we are ready to prepare the suite of benchmarks. Keep in mind that preparing the suite includes planning the transforms, and plans with a `PATIENT` or `EXAUSTIVE` flag take some time for large $N$."
   ],
   "metadata": {}
  },
  {
   "outputs": [],
   "cell_type": "code",
   "source": [
    "for N in Ns\n",
    "    x = y = (L/N):(L/N):L\n",
    "    vort = sum(\n",
    "        [\n",
    "            2κ₀^2 * (kx^2 + ky^2) * (\n",
    "                ar * cos.(κ₀ * (kx * one.(y) * x' + ky * y * one.(x)'))\n",
    "                - ai * sin.(κ₀ * (kx * one.(y) * x' + ky * y * one.(x)'))\n",
    "            )\n",
    "            for (kx, ky, ar, ai) in zip(kxs, kys, ars, ais)\n",
    "        ]\n",
    "    )\n",
    "\n",
    "    vort_hat = rfft(vort)\n",
    "\n",
    "    flag = \"NO PLAN\"\n",
    "    @info \"N = $N; flag: $flag\"\n",
    "    suite[flag][N] = @benchmarkable rfft(w) setup = (w = copy($vort));\n",
    "\n",
    "    for flag in flags\n",
    "        @info \"N = $N; flag: $flag\"\n",
    "        planed, pstats... = @timed plan_rfft(vort, flags = eval(Meta.parse(\"FFTW.$flag\")))\n",
    "        plan_stats[flag][N] = pstats.time\n",
    "\n",
    "        suite[flag][N] = @benchmarkable mul!(w_hat, p, w) setup = (\n",
    "            w_hat = copy($vort_hat);\n",
    "            p = $planed;\n",
    "            w = copy($vort)\n",
    "        );\n",
    "    end\n",
    "end\n",
    "\n",
    "suite"
   ],
   "metadata": {},
   "execution_count": null
  },
  {
   "cell_type": "markdown",
   "source": [
    "Looking at `plan_stats`, we can see the time spent in planning the transforms."
   ],
   "metadata": {}
  },
  {
   "outputs": [],
   "cell_type": "code",
   "source": [
    "for N in Ns\n",
    "    @info \"N = $N\"\n",
    "    for flag in flags\n",
    "        @info \"$flag: \\t$(BenchmarkTools.prettytime(plan_stats[flag][N] * 1.0e+9))\"\n",
    "    end\n",
    "end"
   ],
   "metadata": {},
   "execution_count": null
  },
  {
   "cell_type": "markdown",
   "source": [
    "## Running the benchmark"
   ],
   "metadata": {}
  },
  {
   "cell_type": "markdown",
   "source": [
    "This should take some time as well."
   ],
   "metadata": {}
  },
  {
   "outputs": [],
   "cell_type": "code",
   "source": [
    "results, stats... = @timed run(suite)\n",
    "nothing"
   ],
   "metadata": {},
   "execution_count": null
  },
  {
   "cell_type": "markdown",
   "source": [
    "Here are the stats of the run:"
   ],
   "metadata": {}
  },
  {
   "outputs": [],
   "cell_type": "code",
   "source": [
    "stats"
   ],
   "metadata": {},
   "execution_count": null
  },
  {
   "cell_type": "markdown",
   "source": [
    "Let's take a look at the results. The time shown is the minimum time of the trial runs for each benchmark."
   ],
   "metadata": {}
  },
  {
   "outputs": [],
   "cell_type": "code",
   "source": [
    "results"
   ],
   "metadata": {},
   "execution_count": null
  },
  {
   "cell_type": "markdown",
   "source": [
    "## Analysis of the benchmark"
   ],
   "metadata": {}
  },
  {
   "cell_type": "markdown",
   "source": [
    "We start plotting the minimum and median times of the benchmark trials."
   ],
   "metadata": {}
  },
  {
   "cell_type": "markdown",
   "source": [
    "First with the minimum time for low values of `N`."
   ],
   "metadata": {}
  },
  {
   "outputs": [],
   "cell_type": "code",
   "source": [
    "plt = plot(\n",
    "    title=\"Minimum times for different plans with vector fields of different sizes\",\n",
    "    xlabel = \"N\",\n",
    "    ylabel = \"time (ns)\",\n",
    "    xticks = Ns[1:4],\n",
    "    rotation = 90,\n",
    "    titlefont=10,\n",
    "    legend=:topleft\n",
    ")\n",
    "\n",
    "for flag in ext_flags\n",
    "    plot!(plt, Ns[1:4], N -> minimum(values(results[flag][N]).times),\n",
    "    linestyle = :dash,\n",
    "    markershape = :rect,\n",
    "    label=\"$flag\"\n",
    "    )\n",
    "end\n",
    "\n",
    "plt"
   ],
   "metadata": {},
   "execution_count": null
  },
  {
   "cell_type": "markdown",
   "source": [
    "Now, the minimum time for all values of `N`:"
   ],
   "metadata": {}
  },
  {
   "outputs": [],
   "cell_type": "code",
   "source": [
    "plt = plot(\n",
    "    title=\"Minimum times for different plans with vector fields of different sizes\",\n",
    "    xlabel = \"N\",\n",
    "    ylabel = \"time (ns)\",\n",
    "    xticks = Ns,\n",
    "    rotation = 90,\n",
    "    titlefont=10,\n",
    "    legend=:topleft\n",
    ")\n",
    "\n",
    "for flag in ext_flags\n",
    "    plot!(plt, Ns, N -> minimum(values(results[flag][N]).times),\n",
    "    linestyle = :dash,\n",
    "    markershape = :rect,\n",
    "    label=\"$flag\"\n",
    "    )\n",
    "end\n",
    "\n",
    "plt"
   ],
   "metadata": {},
   "execution_count": null
  },
  {
   "cell_type": "markdown",
   "source": [
    "Next with the median time, starting with low values of `N`:"
   ],
   "metadata": {}
  },
  {
   "outputs": [],
   "cell_type": "code",
   "source": [
    "plt = plot(\n",
    "    title=\"Median times for different plans with vector fields of different sizes\",\n",
    "    xlabel = \"N\",\n",
    "    ylabel = \"time (ms)\",\n",
    "    xticks = Ns[1:4],\n",
    "    rotation = 90,\n",
    "    titlefont=10,\n",
    "    legend=:topleft\n",
    ")\n",
    "\n",
    "for flag in ext_flags\n",
    "    plot!(plt, Ns[1:4], N -> median(values(results[flag][N]).times),\n",
    "    linestyle = :solid,\n",
    "    markershape = :circle,\n",
    "    label=\"$flag\"\n",
    "    )\n",
    "end\n",
    "plt"
   ],
   "metadata": {},
   "execution_count": null
  },
  {
   "cell_type": "markdown",
   "source": [
    "Now with all values of `N`:"
   ],
   "metadata": {}
  },
  {
   "outputs": [],
   "cell_type": "code",
   "source": [
    "plt = plot(\n",
    "    title=\"Median times for different plans with vector fields of different sizes\",\n",
    "    xlabel = \"N\",\n",
    "    ylabel = \"time (ms)\",\n",
    "    xticks = Ns,\n",
    "    rotation = 90,\n",
    "    titlefont=10,\n",
    "    legend=:topleft\n",
    ")\n",
    "\n",
    "for flag in ext_flags\n",
    "    plot!(plt, Ns, N -> median(values(results[flag][N]).times)./ 1.0e+6,\n",
    "    linestyle = :solid,\n",
    "    markershape = :circle,\n",
    "    label=\"$flag\"\n",
    "    )\n",
    "end\n",
    "\n",
    "plt"
   ],
   "metadata": {},
   "execution_count": null
  },
  {
   "cell_type": "markdown",
   "source": [
    "Next we have a look at the set of trials, with violin plots."
   ],
   "metadata": {}
  },
  {
   "outputs": [],
   "cell_type": "code",
   "source": [
    "plts = []\n",
    "\n",
    "for N in Ns\n",
    "    push!(\n",
    "        plts,\n",
    "        violin(\n",
    "            [results[flag][N].times for flag in flags],\n",
    "            title = \"Trials with N = $N\",\n",
    "            titlefont = 12,\n",
    "            xticks = (1:length(flags), string.(flags)),\n",
    "            yaxis = \"time (ns)\",\n",
    "            legend = nothing\n",
    "        )\n",
    "    )\n",
    "end\n",
    "\n",
    "if isodd(length(Ns))\n",
    "    push!(plts, plot(border = :none))\n",
    "end\n",
    "\n",
    "plt = plot(plts..., layout = (div(length(plts), 2), 2), size = (800, 1200))"
   ],
   "metadata": {},
   "execution_count": null
  },
  {
   "cell_type": "markdown",
   "source": [
    "We may look at the plot recipe build for the results of running a benchmark suite. But need to work on sorting the values of `N`."
   ],
   "metadata": {}
  },
  {
   "cell_type": "markdown",
   "source": [
    "Let us take a final closer look at the median values."
   ],
   "metadata": {}
  },
  {
   "outputs": [],
   "cell_type": "code",
   "source": [
    "for N in Ns\n",
    "    @info \"N = $N\"\n",
    "    for flag in flags\n",
    "        @info \"median time for flag $flag: $(BenchmarkTools.prettytime(median(values(results[flag][N]).times)))\"\n",
    "    end\n",
    "end"
   ],
   "metadata": {},
   "execution_count": null
  },
  {
   "cell_type": "markdown",
   "source": [
    "**Notice that `N` with powers of 2 are a little better.** The timings for the non-powers-of-2 are skewed up."
   ],
   "metadata": {}
  },
  {
   "cell_type": "markdown",
   "source": [
    "We can have a better look at that by fitting the expected order of complexity. The discrete Fourier transform is of order $K\\log(K)$, but this is a two-dimensional problem, so $K = N^2$."
   ],
   "metadata": {}
  },
  {
   "cell_type": "markdown",
   "source": [
    "Let us fit a single plan, say `PATIENT`, with the median times."
   ],
   "metadata": {}
  },
  {
   "outputs": [],
   "cell_type": "code",
   "source": [
    "flag = \"PATIENT\""
   ],
   "metadata": {},
   "execution_count": null
  },
  {
   "cell_type": "markdown",
   "source": [
    "We only fit the data for the powers of two."
   ],
   "metadata": {}
  },
  {
   "outputs": [],
   "cell_type": "code",
   "source": [
    "twos = filter(N -> isinteger(log2(N)), Ns)"
   ],
   "metadata": {},
   "execution_count": null
  },
  {
   "cell_type": "markdown",
   "source": [
    "Here is the Vandermonde matrix for the fit."
   ],
   "metadata": {}
  },
  {
   "outputs": [],
   "cell_type": "code",
   "source": [
    "mat = [ones(length(twos)) [N^2 * log(N^2) for N in twos]]"
   ],
   "metadata": {},
   "execution_count": null
  },
  {
   "cell_type": "markdown",
   "source": [
    "We get"
   ],
   "metadata": {}
  },
  {
   "outputs": [],
   "cell_type": "code",
   "source": [
    "a, b = mat \\ [median(values(results[flag][N].times)) for N in twos]"
   ],
   "metadata": {},
   "execution_count": null
  },
  {
   "cell_type": "markdown",
   "source": [
    "Now we plot the resulting fit agains the data"
   ],
   "metadata": {}
  },
  {
   "outputs": [],
   "cell_type": "code",
   "source": [
    "plt = plot(\n",
    "    title=\"Median times for plan $flag with vector fields of different sizes\",\n",
    "    xlabel = \"N (stretched out as N²)\",\n",
    "    ylabel = \"time (ms)\",\n",
    "    xticks = (Ns.^2, string.(Ns)),\n",
    "    rotation = 90,\n",
    "    titlefont=10,\n",
    "    legend=:topleft\n",
    ")\n",
    "\n",
    "plot!(plt, Ns.^2, map(N -> median(values(results[flag][isqrt(N)]).times)./ 1.0e+6, Ns.^2),\n",
    "linestyle = :solid,\n",
    "markershape = :circle,\n",
    "label=\"$flag\"\n",
    ")\n",
    "\n",
    "plot!(plt, Ns.^2, K -> (a + b * K * log(K) )./ 1.0e+6, linestyle = :dash, markershape = :square, label=\"N²log(N²) fit\")\n",
    "\n",
    "\n",
    "plt"
   ],
   "metadata": {},
   "execution_count": null
  },
  {
   "cell_type": "markdown",
   "source": [
    "Now we take a closer look at the results for low `N`. Because the values are so discrepant for low and high `Ns` (they scale with $N^2$), instead of zooming into the result for low `N`, we do another fit, for these values. One option is to do a weighted least square fit, but that didn't turn out to be the best, so we we just restrict the fit to the low `N`."
   ],
   "metadata": {}
  },
  {
   "cell_type": "markdown",
   "source": [
    "We look at the powers of two that have low `N`:"
   ],
   "metadata": {}
  },
  {
   "outputs": [],
   "cell_type": "code",
   "source": [
    "lowtwos = filter(N -> isinteger(log2(N)), Ns[1:4])"
   ],
   "metadata": {},
   "execution_count": null
  },
  {
   "cell_type": "markdown",
   "source": [
    "And fit them with the Vandermonde matrix"
   ],
   "metadata": {}
  },
  {
   "outputs": [],
   "cell_type": "code",
   "source": [
    "lowmat = [ones(length(lowtwos)) [N^2 * log(N^2) for N in lowtwos]]"
   ],
   "metadata": {},
   "execution_count": null
  },
  {
   "cell_type": "markdown",
   "source": [
    "We get"
   ],
   "metadata": {}
  },
  {
   "outputs": [],
   "cell_type": "code",
   "source": [
    "c, d = lowmat \\ [median(values(results[flag][N].times)) for N in lowtwos]"
   ],
   "metadata": {},
   "execution_count": null
  },
  {
   "cell_type": "markdown",
   "source": [
    "Now we can visualize the result."
   ],
   "metadata": {}
  },
  {
   "outputs": [],
   "cell_type": "code",
   "source": [
    "plt = plot(\n",
    "    title=\"Median times for plan $flag with vector fields of different sizes\",\n",
    "    xlabel = \"N (stretched out as N²)\",\n",
    "    ylabel = \"time (ms)\",\n",
    "    xticks = (Ns[1:4].^2, string.(Ns[1:4])),\n",
    "    rotation = 90,\n",
    "    titlefont=10,\n",
    "    legend=:topleft\n",
    ")\n",
    "\n",
    "plot!(plt, Ns[1:4].^2, map(N -> median(values(results[flag][isqrt(N)]).times)./ 1.0e+6, Ns[1:4].^2),\n",
    "linestyle = :solid,\n",
    "markershape = :circle,\n",
    "label=\"$flag\"\n",
    ")\n",
    "\n",
    "plot!(plt, Ns[1:4].^2, K -> (c + d * K * log(K) )./ 1.0e+6, linestyle = :dash, markershape = :square, label=\"N²log(N²) fit\")\n",
    "\n",
    "\n",
    "plt"
   ],
   "metadata": {},
   "execution_count": null
  },
  {
   "cell_type": "markdown",
   "source": [
    "Hmm, notice there are just two powers of two in this low range of `N`, so we could have just draw a straight line joint these two, but we leave it here in this generic way in case we change the values in the vector `Ns` of values of `N`."
   ],
   "metadata": {}
  },
  {
   "cell_type": "markdown",
   "source": [
    "## Conclusions"
   ],
   "metadata": {}
  },
  {
   "cell_type": "markdown",
   "source": [
    "Well, no plan is consistently worse, with all the others being closer together. In general, \"PATIENT\" and \"EXHAUSTIVE\" perform better, but planning them is costly, especially \"EXHAUSTIVE\", which doesn't seem to be worth it."
   ],
   "metadata": {}
  },
  {
   "cell_type": "markdown",
   "source": [
    "Hence, for a quick plan, \"MEASURE\" seems to be a good choice. Otherwise, \"PATIENT\" seems like the best option."
   ],
   "metadata": {}
  },
  {
   "cell_type": "markdown",
   "source": [
    "Moreover, powers of single primes, and in particular powers of 2, tend also to be faster, relatively speaking."
   ],
   "metadata": {}
  },
  {
   "cell_type": "markdown",
   "source": [
    "Hence, prefer `N` with powers of 2, plan with `PATIENT`, and apply the plan with `mul!`."
   ],
   "metadata": {}
  }
 ],
 "nbformat_minor": 3,
 "metadata": {
  "language_info": {
   "file_extension": ".jl",
   "mimetype": "application/julia",
   "name": "julia",
   "version": "1.7.2"
  },
  "kernelspec": {
   "name": "julia-1.7",
   "display_name": "Julia 1.7.2",
   "language": "julia"
  }
 },
 "nbformat": 4
}
