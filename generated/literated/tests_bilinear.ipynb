{
 "cells": [
  {
   "cell_type": "markdown",
   "source": [
    "# Approximations of the bilinear term"
   ],
   "metadata": {}
  },
  {
   "cell_type": "markdown",
   "source": [
    "Ultimately we want to evolve, in time, an equation of the form # $$\n",
    "  \\omega_t = G(\\omega).\n",
    "$$\n",
    "For the 2D NSE, $G$ is of the form\n",
    "$$\n",
    " G(\\omega) = g + \\nu \\Delta \\omega + B(\\omega),\n",
    "$$\n",
    "where\n",
    "$$\n",
    "  B(\\omega) = \\left(\\partial_x^2 - \\partial_y^2\\right)(uv) + \\partial_{xy}\\left(v^2 - u^2\\right),\n",
    "$$\n",
    "with $\\mathbf{u} = (u(x, y), v(x, y))$ being the velocity field associated with the vorticity, i.e.  $\\omega = \\boldsymbol{\\nabla} \\times \\mathbf{u} = v_x - u_y$."
   ],
   "metadata": {}
  },
  {
   "cell_type": "markdown",
   "source": [
    "In spectral space, $\\Delta \\omega$ is just a diagonal operator, while $g$ is a given scalar field, which are both easy to compute. The most computationally demanding term is $B(\\omega)$."
   ],
   "metadata": {}
  },
  {
   "cell_type": "markdown",
   "source": [
    "Here, we test different ways of approximating $B(\\omega)$."
   ],
   "metadata": {}
  },
  {
   "cell_type": "markdown",
   "source": [
    "The packages we are gonna need."
   ],
   "metadata": {}
  },
  {
   "outputs": [],
   "cell_type": "code",
   "source": [
    "using FFTW\n",
    "using Plots\n",
    "using LinearAlgebra: mul!\n",
    "using Test\n",
    "using BenchmarkTools\n",
    "using Random\n",
    "\n",
    "@info \"Threads: $(FFTW.nthreads())\""
   ],
   "metadata": {},
   "execution_count": null
  },
  {
   "cell_type": "markdown",
   "source": [
    "## Operators"
   ],
   "metadata": {}
  },
  {
   "cell_type": "markdown",
   "source": [
    "We first define a method to build the various operators acting in spectral space:"
   ],
   "metadata": {}
  },
  {
   "outputs": [],
   "cell_type": "code",
   "source": [
    "function get_operators(N, κ₀)\n",
    "    # Differentiation in spectral space\n",
    "    Dx_hat = im * κ₀ * [\n",
    "        ifelse(k1 ≤ div(N, 2) + 1, k1 - 1, k1 - 1 - N) for k2 in 1:div(N, 2)+1, k1 in 1:N\n",
    "    ]\n",
    "    Dy_hat = im * κ₀ * [k2 - 1 for k2 in 1:div(N, 2)+1, k1 in 1:N]\n",
    "\n",
    "    Delta_hat = - κ₀^2 * [\n",
    "        ifelse(k1 ≤ div(N, 2) + 1, (k1 - 1)^2 + (k2 - 1)^2, (k1 - 1 - N)^2 + (k2 - 1)^2)\n",
    "        for k2 in 1:div(N, 2)+1, k1 in 1:N\n",
    "    ]\n",
    "\n",
    "    # For the Basdevant formulation\n",
    "    DxsqDysq_hat = Dx_hat.^2 .- Dy_hat.^2\n",
    "    Dxy_hat = Dx_hat .* Dy_hat\n",
    "\n",
    "    # Recovering of the velocity field from the vorticity\n",
    "    Hu_hat = - Dy_hat ./ Delta_hat\n",
    "    Hu_hat[1, 1] = 0.0\n",
    "    Hv_hat = Dx_hat ./ Delta_hat\n",
    "    Hv_hat[1, 1] = 0.0\n",
    "\n",
    "    return Dx_hat, Dy_hat, Delta_hat, Hu_hat, Hv_hat, DxsqDysq_hat, Dxy_hat\n",
    "end"
   ],
   "metadata": {},
   "execution_count": null
  },
  {
   "cell_type": "markdown",
   "source": [
    "## Generation of a scalar field"
   ],
   "metadata": {}
  },
  {
   "cell_type": "markdown",
   "source": [
    "Method to generate a scalar field from a list of wavenumbers and amplitudes:"
   ],
   "metadata": {}
  },
  {
   "outputs": [],
   "cell_type": "code",
   "source": [
    "function field_from_modes(L, N, modes::Matrix{<:Integer}, amps::Matrix{<:Real})\n",
    "    κ₀ = 2π/L\n",
    "    x = y = (L/N):(L/N):L\n",
    "    field = sum(\n",
    "        [\n",
    "            2κ₀^2 * (k[1]^2 + k[2]^2) * (\n",
    "                a[1] * cos.(κ₀ * (k[1] * one.(y) * x' + k[2] * y * one.(x)'))\n",
    "                - a[2] * sin.(κ₀ * (k[1] * one.(y) * x' + k[2] * y * one.(x)'))\n",
    "            )\n",
    "            for (k, a) in zip(eachrow(modes), eachrow(amps))\n",
    "        ]\n",
    "    )\n",
    "    return field\n",
    "end"
   ],
   "metadata": {},
   "execution_count": null
  },
  {
   "cell_type": "markdown",
   "source": [
    "Method to randomly generate a scalar field from a given random number generator and a given number wavenumbers to be excited:"
   ],
   "metadata": {}
  },
  {
   "outputs": [],
   "cell_type": "code",
   "source": [
    "function field_from_modes(rng::AbstractRNG, L, N, num_modes::Int)\n",
    "\n",
    "    modes = rand(rng, 1:div(N,10), num_modes, 2)\n",
    "    amps = rand(rng, num_modes, 2)\n",
    "\n",
    "    field = field_from_modes(L, N, modes, amps)\n",
    "\n",
    "    return field\n",
    "end"
   ],
   "metadata": {},
   "execution_count": null
  },
  {
   "cell_type": "markdown",
   "source": [
    "Method to randomly generate a scalar field from a given number wavenumbers to be excited:"
   ],
   "metadata": {}
  },
  {
   "outputs": [],
   "cell_type": "code",
   "source": [
    "field_from_modes(L, N, num_modes::Int) = field_from_modes(Xoshiro(), L, N, num_modes)"
   ],
   "metadata": {},
   "execution_count": null
  },
  {
   "cell_type": "markdown",
   "source": [
    "## Methods for computing the bilinear term"
   ],
   "metadata": {}
  },
  {
   "outputs": [],
   "cell_type": "code",
   "source": [
    "function bilinear_naive(vort_hat, params)\n",
    "    operators, vars = params\n",
    "\n",
    "    Dx_hat, Dy_hat, Delta_hat, Hu_hat, Hv_hat,\n",
    "        DxsqDysq_hat, Dxy_hat = operators\n",
    "    N, Nsub = vars\n",
    "\n",
    "    u_hat = Hu_hat .* vort_hat\n",
    "    v_hat = Hv_hat .* vort_hat\n",
    "    u = irfft(u_hat, N)\n",
    "    v = irfft(v_hat, N)\n",
    "    vort = irfft(vort_hat, N)\n",
    "    wu_hat = rfft(vort .* u)\n",
    "    wv_hat = rfft(vort .* v)\n",
    "\n",
    "    bilin_hat = Dx_hat .* wu_hat .+ Dy_hat .* wv_hat\n",
    "    # dealiasing\n",
    "    bilin_hat[div(Nsub,2) + 1:end, :] .= 0.0im\n",
    "    bilin_hat[:, div(Nsub,2) + 1:div(N,2) + div(Nsub,2)] .= 0.0im\n",
    "    return bilin_hat\n",
    "end"
   ],
   "metadata": {},
   "execution_count": null
  },
  {
   "outputs": [],
   "cell_type": "code",
   "source": [
    "function bilinear_auxs!(bilin_hat, vort_hat, params)\n",
    "    operators, vars, auxs = params\n",
    "\n",
    "    Dx_hat, Dy_hat, Delta_hat, Hu_hat, Hv_hat,\n",
    "        DxsqDysq_hat, Dxy_hat = operators\n",
    "    N, Nsub = vars\n",
    "    u_hat, v_hat, u, v, w, wu, wv, wu_hat, wv_hat = auxs\n",
    "\n",
    "    u_hat .= Hu_hat .* vort_hat\n",
    "    v_hat .= Hv_hat .* vort_hat\n",
    "    u .= irfft(u_hat, N)\n",
    "    v .= irfft(v_hat, N)\n",
    "    w .= irfft(vort_hat, N)\n",
    "    wu .= w .* u\n",
    "    wv .= w .* v\n",
    "    wu_hat .= rfft(wu)\n",
    "    wv_hat .= rfft(wv)\n",
    "\n",
    "    bilin_hat .= Dx_hat .* wu_hat .+ Dy_hat .* wv_hat\n",
    "    # dealiasing\n",
    "    bilin_hat[div(Nsub,2) + 1:end, :] .= 0.0im\n",
    "    bilin_hat[:, div(Nsub,2) + 1:div(N,2) + div(Nsub,2)] .= 0.0im\n",
    "\n",
    "    return bilin_hat\n",
    "end"
   ],
   "metadata": {},
   "execution_count": null
  },
  {
   "outputs": [],
   "cell_type": "code",
   "source": [
    "function bilinear_plan_brdcst!(bilin_hat, vort_hat, params)\n",
    "    operators, vars, auxs, plans = params\n",
    "\n",
    "    Dx_hat, Dy_hat, Delta_hat, Hu_hat, Hv_hat,\n",
    "        DxsqDysq_hat, Dxy_hat = operators\n",
    "    N, Nsub = vars\n",
    "    u_hat, v_hat, u, v, w, wu, wv, wu_hat, wv_hat = auxs\n",
    "    plan, plan_inv = plans\n",
    "\n",
    "    u_hat .= Hu_hat .* vort_hat\n",
    "    v_hat .= Hv_hat .* vort_hat\n",
    "    mul!(u, plan_inv, u_hat)\n",
    "    mul!(v, plan_inv, v_hat)\n",
    "    # mul! on inverse plan mutates last argument, but we need to preserve vort_hat\n",
    "    # so, reuse v_hat for that:\n",
    "    v_hat .= vort_hat\n",
    "    mul!(w, plan_inv, v_hat)\n",
    "    wu .= w .* u\n",
    "    wv .= w .* v\n",
    "\n",
    "    mul!(wu_hat, plan, wu)\n",
    "    mul!(wv_hat, plan, wv)\n",
    "\n",
    "    bilin_hat .= Dx_hat .* wu_hat .+ Dy_hat .* wv_hat\n",
    "    # dealiasing\n",
    "    bilin_hat[div(Nsub,2) + 1:end, :] .= 0.0im\n",
    "    bilin_hat[:, div(Nsub,2) + 1:div(N,2) + div(Nsub,2)] .= 0.0im\n",
    "\n",
    "    return bilin_hat\n",
    "end"
   ],
   "metadata": {},
   "execution_count": null
  },
  {
   "outputs": [],
   "cell_type": "code",
   "source": [
    "function bilinear_Basdevant_brdcst(vort_hat, params)\n",
    "    operators, vars = params\n",
    "\n",
    "    Dx_hat, Dy_hat, Delta_hat, Hu_hat, Hv_hat,\n",
    "        DxsqDysq_hat, Dxy_hat = operators\n",
    "    N, Nsub = vars\n",
    "\n",
    "    u_hat = Hu_hat .* vort_hat\n",
    "    v_hat = Hv_hat .* vort_hat\n",
    "    u = irfft(u_hat, N)\n",
    "    v = irfft(v_hat, N)\n",
    "    uv_hat = rfft(u .* v)\n",
    "    v2u2_hat = rfft(v.^2 - u.^2)\n",
    "\n",
    "    bilin_hat = DxsqDysq_hat .* uv_hat .+ Dxy_hat .* v2u2_hat\n",
    "    # dealiasing\n",
    "    bilin_hat[div(Nsub,2) + 1:end, :] .= 0.0im\n",
    "    bilin_hat[:, div(Nsub,2) + 1:div(N,2) + div(Nsub,2)] .= 0.0im\n",
    "\n",
    "    return bilin_hat\n",
    "end"
   ],
   "metadata": {},
   "execution_count": null
  },
  {
   "outputs": [],
   "cell_type": "code",
   "source": [
    "function bilinear_Basdevant_plan_brdcst!(bilin_hat, vort_hat, params)\n",
    "    operators, vars, auxs, plans = params\n",
    "\n",
    "    Dx_hat, Dy_hat, Delta_hat, Hu_hat, Hv_hat,\n",
    "        DxsqDysq_hat, Dxy_hat = operators\n",
    "    N, Nsub = vars\n",
    "    u_hat, v_hat, u, v, w, uv, v2u2, uv_hat, v2u2_hat = auxs\n",
    "    plan, plan_inv = plans\n",
    "\n",
    "    u_hat .= Hu_hat .* vort_hat\n",
    "    v_hat .= Hv_hat .* vort_hat\n",
    "\n",
    "    mul!(u, plan_inv, u_hat)\n",
    "    mul!(v, plan_inv, v_hat)\n",
    "\n",
    "    uv .= u .* v\n",
    "    v2u2 .= v.^2 .- u.^2\n",
    "    mul!(uv_hat, plan, uv)\n",
    "    mul!(v2u2_hat, plan, v2u2)\n",
    "\n",
    "    bilin_hat .= DxsqDysq_hat .* uv_hat .+ Dxy_hat .* v2u2_hat\n",
    "\n",
    "    # dealiasing\n",
    "    bilin_hat[div(Nsub,2) + 1:end, :] .= 0.0im\n",
    "    bilin_hat[:, div(Nsub,2) + 1:div(N,2) + div(Nsub,2)] .= 0.0im\n",
    "\n",
    "    return bilin_hat\n",
    "end"
   ],
   "metadata": {},
   "execution_count": null
  },
  {
   "outputs": [],
   "cell_type": "code",
   "source": [
    "function bilinear_Basdevant_plan_loop!(bilin_hat, vort_hat, params)\n",
    "    operators, vars, auxs, plans = params\n",
    "\n",
    "    Dx_hat, Dy_hat, Delta_hat, Hu_hat, Hv_hat,\n",
    "        DxsqDysq_hat, Dxy_hat = operators\n",
    "    N, Nsub = vars\n",
    "    u_hat, v_hat, u, v, w, uv, v2u2, uv_hat, v2u2_hat = auxs\n",
    "    plan, plan_inv = plans\n",
    "\n",
    "    @inbounds for k in eachindex(u_hat)\n",
    "        u_hat[k] = Hu_hat[k] * vort_hat[k]\n",
    "        v_hat[k] = Hv_hat[k] * vort_hat[k]\n",
    "    end\n",
    "\n",
    "    mul!(u, plan_inv, u_hat)\n",
    "    mul!(v, plan_inv, v_hat)\n",
    "\n",
    "    @inbounds for k in eachindex(u)\n",
    "        uv[k] = u[k] * v[k]\n",
    "        v2u2[k] = v[k]^2 - u[k]^2\n",
    "    end\n",
    "\n",
    "    mul!(uv_hat, plan, uv)\n",
    "    mul!(v2u2_hat, plan, v2u2)\n",
    "\n",
    "    @inbounds for k in eachindex(vort_hat)\n",
    "        bilin_hat[k] = DxsqDysq_hat[k] * uv_hat[k] + Dxy_hat[k] * v2u2_hat[k]\n",
    "    end\n",
    "    # dealiasing\n",
    "    @inbounds for j in 1:N, i in div(Nsub,2) + 1:div(N, 2) + 1\n",
    "        bilin_hat[i, j] = 0.0im\n",
    "    end\n",
    "    @inbounds for j in div(Nsub,2) + 1:div(N,2) + div(Nsub,2), i in 1:div(N, 2) + 1\n",
    "        bilin_hat[i, j] = 0.0im\n",
    "    end\n",
    "\n",
    "    return bilin_hat\n",
    "end"
   ],
   "metadata": {},
   "execution_count": null
  },
  {
   "outputs": [],
   "cell_type": "code",
   "source": [
    "function bilinear_Basdevant_plan_doubleloop!(bilin_hat, vort_hat, params)\n",
    "    operators, vars, auxs, plans = params\n",
    "\n",
    "    Dx_hat, Dy_hat, Delta_hat, Hu_hat, Hv_hat,\n",
    "        DxsqDysq_hat, Dxy_hat = operators\n",
    "    N, Nsub = vars\n",
    "    u_hat, v_hat, u, v, w, uv, v2u2, uv_hat, v2u2_hat = auxs\n",
    "    plan, plan_inv = plans\n",
    "\n",
    "    M, N = size(vort_hat)\n",
    "\n",
    "    @inbounds for j in 1:N, i in 1:M\n",
    "        u_hat[i, j] = Hu_hat[i, j] * vort_hat[i, j]\n",
    "        v_hat[i, j] = Hv_hat[i, j] * vort_hat[i, j]\n",
    "    end\n",
    "\n",
    "    mul!(u, plan_inv, u_hat)\n",
    "    mul!(v, plan_inv, v_hat)\n",
    "\n",
    "    @inbounds for j in 1:N, i in 1:N\n",
    "        uv[i, j] = u[i, j] * v[i, j]\n",
    "        v2u2[i, j] = v[i, j]^2 - u[i, j]^2\n",
    "    end\n",
    "\n",
    "    mul!(uv_hat, plan, uv)\n",
    "    mul!(v2u2_hat, plan, v2u2)\n",
    "\n",
    "    @inbounds for j in 1:N, i in 1:M\n",
    "        bilin_hat[i, j] = DxsqDysq_hat[i, j] * uv_hat[i, j] + Dxy_hat[i, j] * v2u2_hat[i, j]\n",
    "    end\n",
    "    # dealiasing\n",
    "    @inbounds for j in 1:N, i in div(Nsub,2) + 1:M\n",
    "        bilin_hat[i, j] = 0.0im\n",
    "    end\n",
    "    @inbounds for j in div(Nsub,2) + 1:div(N,2) + div(Nsub,2), i in 1:M\n",
    "        bilin_hat[i, j] = 0.0im\n",
    "    end\n",
    "\n",
    "    return bilin_hat\n",
    "end"
   ],
   "metadata": {},
   "execution_count": null
  },
  {
   "cell_type": "markdown",
   "source": [
    "## The spatial domain and its discretization"
   ],
   "metadata": {}
  },
  {
   "outputs": [],
   "cell_type": "code",
   "source": [
    "L = 2π\n",
    "κ₀ = 2π/L\n",
    "N = 256\n",
    "Nsub = 162\n",
    "x = y = (L/N):(L/N):L"
   ],
   "metadata": {},
   "execution_count": null
  },
  {
   "cell_type": "markdown",
   "source": [
    "## Preparation for tests"
   ],
   "metadata": {}
  },
  {
   "outputs": [],
   "cell_type": "code",
   "source": [
    "Dx_hat, Dy_hat, Delta_hat, Hu_hat, Hv_hat, DxsqDysq_hat, Dxy_hat = get_operators(N, κ₀)\n",
    "\n",
    "vort = field_from_modes(L, N, 48)\n",
    "vort_hat = rfft(vort)\n",
    "\n",
    "u_hat = similar(vort_hat)\n",
    "v_hat = similar(vort_hat)\n",
    "u = similar(vort)\n",
    "v = similar(vort)\n",
    "w = similar(vort)\n",
    "uv = similar(vort)\n",
    "v2u2 = similar(vort)\n",
    "uv_hat = similar(vort_hat)\n",
    "v2u2_hat = similar(vort_hat)\n",
    "bilin_hat = similar(vort_hat)\n",
    "\n",
    "plan = plan_rfft(vort, flags=FFTW.MEASURE)\n",
    "plan_inv = plan_irfft(vort_hat, N, flags=FFTW.MEASURE)\n",
    "\n",
    "operators = Dx_hat, Dy_hat, Delta_hat, Hu_hat, Hv_hat, DxsqDysq_hat, Dxy_hat\n",
    "vars = N, Nsub\n",
    "auxs = u_hat, v_hat, u, v, w, uv, v2u2, uv_hat, v2u2_hat\n",
    "plans = plan, plan_inv"
   ],
   "metadata": {},
   "execution_count": null
  },
  {
   "cell_type": "markdown",
   "source": [
    "## Check results"
   ],
   "metadata": {}
  },
  {
   "cell_type": "markdown",
   "source": [
    "As a first test, we check that all implementations return about the same vector"
   ],
   "metadata": {}
  },
  {
   "outputs": [],
   "cell_type": "code",
   "source": [
    "@testset \"same result bilinear terms\" begin\n",
    "\n",
    "    bilin_hat_naive = bilinear_naive(\n",
    "        vort_hat,\n",
    "        (operators, vars)\n",
    "    )\n",
    "\n",
    "    bilinear_hat_brdcst = similar(vort_hat)\n",
    "    bilinear_auxs!(bilinear_hat_brdcst, vort_hat, (operators, vars, auxs))\n",
    "\n",
    "    bilin_hat_plan_brdcst = similar(vort_hat)\n",
    "    bilinear_plan_brdcst!(\n",
    "        bilin_hat_plan_brdcst,\n",
    "        vort_hat,\n",
    "        (operators, vars, auxs, plans)\n",
    "    )\n",
    "\n",
    "    bilin_hat_Basdevant_brdcst = bilinear_Basdevant_brdcst(\n",
    "        vort_hat,\n",
    "        (operators, vars)\n",
    "    )\n",
    "\n",
    "    bilin_hat_Basdevant_plan_brdcst = similar(vort_hat)\n",
    "    bilinear_Basdevant_plan_brdcst!(\n",
    "        bilin_hat_Basdevant_plan_brdcst,\n",
    "        vort_hat,\n",
    "        (operators, vars, auxs, plans)\n",
    "    )\n",
    "\n",
    "    bilin_hat_Basdevant_plan_loop = similar(vort_hat)\n",
    "    bilinear_Basdevant_plan_loop!(\n",
    "        bilin_hat_Basdevant_plan_loop,\n",
    "        vort_hat,\n",
    "        (operators, vars, auxs, plans)\n",
    "    )\n",
    "\n",
    "    bilin_hat_Basdevant_plan_doubleloop = similar(vort_hat)\n",
    "    bilinear_Basdevant_plan_doubleloop!(\n",
    "        bilin_hat_Basdevant_plan_doubleloop,\n",
    "        vort_hat,\n",
    "        (operators, vars, auxs, plans)\n",
    "    )\n",
    "\n",
    "    @test bilin_hat_naive ≈ bilinear_hat_brdcst\n",
    "    @test bilinear_hat_brdcst ≈ bilin_hat_plan_brdcst\n",
    "    @test bilin_hat_plan_brdcst ≈ bilin_hat_Basdevant_brdcst\n",
    "    @test bilin_hat_Basdevant_brdcst ≈ bilin_hat_Basdevant_plan_brdcst\n",
    "    @test bilin_hat_Basdevant_plan_brdcst ≈ bilin_hat_Basdevant_plan_loop\n",
    "    @test bilin_hat_Basdevant_plan_loop ≈ bilin_hat_Basdevant_plan_doubleloop\n",
    "end\n",
    "nothing"
   ],
   "metadata": {},
   "execution_count": null
  },
  {
   "cell_type": "markdown",
   "source": [
    "## Orthogonality"
   ],
   "metadata": {}
  },
  {
   "cell_type": "markdown",
   "source": [
    "As a second test, we check the orthogonality condition of the bilinear term."
   ],
   "metadata": {}
  },
  {
   "cell_type": "markdown",
   "source": [
    "Due to the periodicity and the divergence-free conditions, we should have $(B(\\omega), \\omega)_{L^2} = 0$. We compute $B(\\omega)$ in spectral space and transform it to physical space in order to check that."
   ],
   "metadata": {}
  },
  {
   "outputs": [],
   "cell_type": "code",
   "source": [
    "bilin_hat_naive = bilinear_naive(vort_hat, (operators, vars))\n",
    "bilin_naive = irfft(bilin_hat_naive, N)\n",
    "nothing"
   ],
   "metadata": {},
   "execution_count": null
  },
  {
   "cell_type": "markdown",
   "source": [
    "We compute the inner product by summing over the nodal values and multiplying that by the area element $\\Delta x \\Delta y = (L/N)^2$. Notice computing the inner product as such has an inherent numerical error, which is also of the order of the area element, so we don't expect the output to be of machine precision."
   ],
   "metadata": {}
  },
  {
   "outputs": [],
   "cell_type": "code",
   "source": [
    "sum(bilin_naive .* vort) * (L / N)^2"
   ],
   "metadata": {},
   "execution_count": null
  },
  {
   "cell_type": "markdown",
   "source": [
    "In spectral space, due to Parseval's identity, this translates to the following (except we need to correct for some indices...)"
   ],
   "metadata": {}
  },
  {
   "outputs": [],
   "cell_type": "code",
   "source": [
    "M = iseven(N) ? div(N, 2) : div(N, 2) + 1\n",
    "\n",
    "(\n",
    "    2 * sum(bilin_hat_naive[2:M,:] .* conj.(vort_hat[2:M,:]))\n",
    "    + sum(bilin_hat_naive[1,:] .* conj.(vort_hat[1,:]))\n",
    "    + sum(bilin_hat_naive[M+1:end,:] .* conj.(vort_hat[M+1:end,:]))\n",
    ") / N^2 * (L / N)^2"
   ],
   "metadata": {},
   "execution_count": null
  },
  {
   "cell_type": "markdown",
   "source": [
    "Hmm, something is wrong..."
   ],
   "metadata": {}
  },
  {
   "cell_type": "markdown",
   "source": [
    "## Benchmark"
   ],
   "metadata": {}
  },
  {
   "outputs": [],
   "cell_type": "code",
   "source": [
    "@info \"bilinear_naive\"\n",
    "@btime bilinear_naive(vh, p) setup = (vh = copy($vort_hat); p = $(operators, vars));\n",
    "\n",
    "@info \"bilinear_auxs!\"\n",
    "@btime bilinear_auxs!(bh, vh, p) setup = (bh = similar($vort_hat); vh = copy($vort_hat); p = $(operators, vars, auxs, plans));\n",
    "\n",
    "@info \"bilinear_Basdevant_brdcst\"\n",
    "@btime bilinear_Basdevant_brdcst(vh, p) setup = (vh = copy($vort_hat); p = $(operators, vars));\n",
    "\n",
    "@info \"bilinear_plan_brdcst!\"\n",
    "@btime bilinear_plan_brdcst!(bh, vh, p) setup = (bh = similar($vort_hat); vh = copy($vort_hat); p = $(operators, vars, auxs, plans));\n",
    "\n",
    "@info \"bilin_hat_Basdevant_plan_brdcst!\"\n",
    "@btime bilinear_Basdevant_plan_brdcst!(bh, vh, p) setup = (bh = similar($vort_hat); vh = copy($vort_hat); p = $(operators, vars, auxs, plans));\n",
    "\n",
    "@info \"bilinear_Basdevant_plan_loop!\"\n",
    "@btime bilinear_Basdevant_plan_loop!(bh, vh, p) setup = (bh = similar($vort_hat); vh = copy($vort_hat); p = $(operators, vars, auxs, plans));\n",
    "\n",
    "@info \"bilinear_Basdevant_plan_doubleloop!\"\n",
    "@btime bilinear_Basdevant_plan_doubleloop!(bh, vh, p) setup = (bh = similar($vort_hat); vh = copy($vort_hat); p = $(operators, vars, auxs, plans));"
   ],
   "metadata": {},
   "execution_count": null
  },
  {
   "cell_type": "markdown",
   "source": [
    "## Conclusions"
   ],
   "metadata": {}
  },
  {
   "cell_type": "markdown",
   "source": [
    "Clearly, `bilinear_naive` is pretty bad, in great part because of the use of the allocating transforms `rfft` and `irfft`."
   ],
   "metadata": {}
  },
  {
   "cell_type": "markdown",
   "source": [
    "The method `bilinear_auxs!` saves some allocations but is pretty slow as well, due to also using `rfft` and `irfft`."
   ],
   "metadata": {}
  },
  {
   "cell_type": "markdown",
   "source": [
    "The method `bilinear_Basdevant_brdcst` saves some time by using the Basdevant formulation, but is still quite slow because of `rfft` and `irfft`."
   ],
   "metadata": {}
  },
  {
   "cell_type": "markdown",
   "source": [
    "All the others are much faster, due to using the plans for the transforms and auxiliary functions to avoid allocation of temporary variable."
   ],
   "metadata": {}
  },
  {
   "cell_type": "markdown",
   "source": [
    "Of the nonallocating ones, the ones that use the Basdevant formulation have a clear advantage. Indeed, computing the direct and inverse Fourier transform are the most costly operation here, so reducing it from five to four makes a significant difference."
   ],
   "metadata": {}
  },
  {
   "cell_type": "markdown",
   "source": [
    "Of these nonallocating ones that use the Basdevant formulation, the two that use explicit loops perform better than the broadcast one, with a slight advantage for the one that uses a single loop with `eachindex` instead of a double loop."
   ],
   "metadata": {}
  },
  {
   "cell_type": "markdown",
   "source": [
    "If one does [@code_warntype](https://docs.julialang.org/en/v1/manual/performance-tips/index.html#man-code-warntype-1) on them, one sees that most are clean, but there are some yellow warnings with type `Union{Nothing, Tuple{Int64, Int64}}` precisely on the two fastest ones. Yellow warnings, fortunately, tend to be harmless, as is the case here. In this case, the warning is due to the way the [iterator interface](https://docs.julialang.org/en/v1/manual/interfaces/#Interfaces) is implemented, which returns `nothing` when the end of the iteration is reached. One can get rid of it with `while` loops, but it won't improve the performance."
   ],
   "metadata": {}
  }
 ],
 "nbformat_minor": 3,
 "metadata": {
  "language_info": {
   "file_extension": ".jl",
   "mimetype": "application/julia",
   "name": "julia",
   "version": "1.7.2"
  },
  "kernelspec": {
   "name": "julia-1.7",
   "display_name": "Julia 1.7.2",
   "language": "julia"
  }
 },
 "nbformat": 4
}
