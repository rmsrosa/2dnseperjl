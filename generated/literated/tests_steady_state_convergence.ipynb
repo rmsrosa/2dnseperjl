{
 "cells": [
  {
   "cell_type": "markdown",
   "source": [
    "# Testing time step and convergence to steady state"
   ],
   "metadata": {}
  },
  {
   "cell_type": "markdown",
   "source": [
    "Here we test the convergence in the case of a known globally stable steady state, made of a single mode and associated with a corresponding single-mode forcing."
   ],
   "metadata": {}
  },
  {
   "cell_type": "markdown",
   "source": [
    "In order to check that, we implement a simple (and far from optimal) time-step algorithm. We'll improve that later."
   ],
   "metadata": {}
  },
  {
   "cell_type": "markdown",
   "source": [
    "Here are the packages we are gonna need."
   ],
   "metadata": {}
  },
  {
   "outputs": [],
   "cell_type": "code",
   "source": [
    "using FFTW\n",
    "using Plots\n",
    "using Test\n",
    "using Random"
   ],
   "metadata": {},
   "execution_count": null
  },
  {
   "cell_type": "markdown",
   "source": [
    "## The spatial domain and discretization"
   ],
   "metadata": {}
  },
  {
   "outputs": [],
   "cell_type": "code",
   "source": [
    "L = 2π\n",
    "κ₀ = 2π/L\n",
    "N = 128\n",
    "Nsub = 84\n",
    "x = y = (L/N):(L/N):L"
   ],
   "metadata": {},
   "execution_count": null
  },
  {
   "cell_type": "markdown",
   "source": [
    "Operators"
   ],
   "metadata": {}
  },
  {
   "outputs": [],
   "cell_type": "code",
   "source": [
    "Dx_hat = im * κ₀ * [ifelse(k1 ≤ N/2 + 1, k1 - 1, k1 - 1 - N) for k2 in 1:N/2+1, k1 in 1:N]\n",
    "Dy_hat = im * κ₀ * [k2 - 1 for k2 in 1:N/2+1, k1 in 1:N]\n",
    "\n",
    "Delta_hat = - κ₀^2 * [\n",
    "    ifelse(k1 ≤ N/2 + 1, (k1 - 1)^2 + (k2 - 1)^2, (k1 - 1 - N)^2 + (k2 - 1)^2)\n",
    "    for k2 in 1:N/2+1, k1 in 1:N\n",
    "]\n",
    "\n",
    "Hu_hat = - Dy_hat ./ Delta_hat\n",
    "Hu_hat[1, 1] = 0.0\n",
    "Hv_hat = Dx_hat ./ Delta_hat\n",
    "Hv_hat[1, 1] = 0.0"
   ],
   "metadata": {},
   "execution_count": null
  },
  {
   "cell_type": "markdown",
   "source": [
    "One-mode steady state"
   ],
   "metadata": {}
  },
  {
   "outputs": [],
   "cell_type": "code",
   "source": [
    "ν = 1.0e-0 # viscosity\n",
    "κ = (x = 1, y = 2) # forced mode\n",
    "α = (re = 0.1, im = 0.05) # strength\n",
    "\n",
    "vort_steady = 2κ₀^2 * sum(abs2, κ) * (\n",
    "    α.re * cos.(κ₀ * (κ.x * one.(y) * x' + κ.y * y * one.(x)'))\n",
    "    - α.im * sin.(κ₀ * (κ.x * one.(y) * x' + κ.y * y * one.(x)'))\n",
    ")\n",
    "vort_steady_hat = rfft(vort_steady)\n",
    "\n",
    "heatmap(x, y, vort_steady, xlabel=\"x\", ylabel=\"y\", title=\"steady state vorticity\", titlefont=12)\n",
    "\n",
    "g_steady = ν * (\n",
    "    2α.re * κ₀^4 * sum(abs2, κ)^2 * cos.(κ₀ * (κ.x * one.(y) * x' + κ.y * y * one.(x)'))\n",
    "    - 2α.im * κ₀^4 * sum(abs2, κ)^2 * sin.(κ₀ * (κ.x * one.(y) * x' + κ.y * y * one.(x)'))\n",
    ")\n",
    "g_steady_hat = rfft(g_steady)\n",
    "\n",
    "heatmap(x, y, g_steady, xlabel=\"x\", ylabel=\"y\", title=\"forcing term\", titlefont=12)\n",
    "\n",
    "Gr = sqrt(\n",
    "    2 * sum(abs2, α) / κ₀^4 / ν^4\n",
    ")\n",
    "\n",
    "@info \"Grashof number: $(round(Gr, digits=4))\""
   ],
   "metadata": {},
   "execution_count": null
  },
  {
   "cell_type": "markdown",
   "source": [
    "evolution step"
   ],
   "metadata": {}
  },
  {
   "outputs": [],
   "cell_type": "code",
   "source": [
    "function step!(vort_hat, dt, params)\n",
    "    Exp_nu_dt_Delta_hat, Dx_hat, Dy_hat, Hu_hat, Hv_hat, g_hat, N, Nsub = params\n",
    "    u_hat = Hu_hat .* vort_hat\n",
    "    v_hat = Hv_hat .* vort_hat\n",
    "    u = irfft(u_hat, N)\n",
    "    v = irfft(v_hat, N)\n",
    "    vort = irfft(vort_hat, N)\n",
    "    wu_hat = rfft(vort .* u)\n",
    "    wv_hat = rfft(vort .* v)\n",
    "    vort_hat .= Exp_nu_dt_Delta_hat .* (\n",
    "        vort_hat .+ dt * (\n",
    "            g_hat .- Dx_hat .* wu_hat .- Dy_hat .* wv_hat\n",
    "        )\n",
    "    )\n",
    "    # dealiasing\n",
    "    vort_hat[div(Nsub,2) + 1:end, :] .= 0.0im\n",
    "    vort_hat[:, div(Nsub,2) + 1:div(N,2) + div(Nsub,2)] .= 0.0im\n",
    "    return vort_hat\n",
    "end"
   ],
   "metadata": {},
   "execution_count": null
  },
  {
   "cell_type": "markdown",
   "source": [
    "Initial vorticity"
   ],
   "metadata": {}
  },
  {
   "outputs": [],
   "cell_type": "code",
   "source": [
    "rng = Xoshiro(123)\n",
    "num_modes = 4\n",
    "vort_init = sum(\n",
    "    [\n",
    "        2κ₀^2 * (kx^2 + ky^2) * (\n",
    "            ar * cos.(κ₀ * (kx * one.(y) * x' + ky * y * one.(x)'))\n",
    "            - ai * sin.(κ₀ * (kx * one.(y) * x' + ky * y * one.(x)'))\n",
    "        )\n",
    "        for (kx, ky, ar, ai) in zip(\n",
    "            rand(rng, 1:div(N,10), num_modes),\n",
    "            rand(rng, 1:div(N,10), num_modes),\n",
    "            rand(rng, num_modes),\n",
    "            rand(rng, num_modes)\n",
    "        )\n",
    "    ]\n",
    ")\n",
    "\n",
    "vort_init_hat = rfft(vort_init)\n",
    "\n",
    "heatmap(x, y, vort_init, xlabel=\"x\", ylabel=\"y\", title=\"initial vorticity\", titlefont=12)"
   ],
   "metadata": {},
   "execution_count": null
  },
  {
   "cell_type": "markdown",
   "source": [
    "Time evolution setup"
   ],
   "metadata": {}
  },
  {
   "outputs": [],
   "cell_type": "code",
   "source": [
    "dt = 1.0e-5 # 1.0e-3 a 1.0e-5\n",
    "t_final = 3.0\n",
    "Exp_nu_dt_Delta_hat = exp.(ν * dt * Delta_hat)\n",
    "params = Exp_nu_dt_Delta_hat, Dx_hat, Dy_hat, Hu_hat, Hv_hat, g_steady_hat, N, Nsub\n",
    "num_steps = Int(round(t_final / dt))\n",
    "\n",
    "vort_hat = copy(vort_init_hat)\n",
    "\n",
    "println(\"Enstrophy convergence:\")\n",
    "println(sum(abs2, vort_hat - vort_steady_hat) * (1/N)^4)\n",
    "for n in 1:num_steps\n",
    "    step!(vort_hat, dt, params)\n",
    "    if rem(n, 1000) == 0\n",
    "        println(sum(abs2, vort_hat - vort_steady_hat) * (1/N)^4)\n",
    "    end\n",
    "end\n",
    "\n",
    "vort = irfft(vort_hat, N)\n",
    "heatmap(x, y, vort, xlabel=\"x\", ylabel=\"y\", title=\"vorticity\", titlefont=12)\n",
    "\n",
    "surface(x, y, vort - vort_steady, xlabel=\"x\", ylabel=\"y\", zlabel=\"error\", title=\"difference `vort_final .- vort_steady`\", titlefont=12)"
   ],
   "metadata": {},
   "execution_count": null
  },
  {
   "cell_type": "markdown",
   "source": [
    "The difference from the actual fixed point to the limit value of the discretized method decreases with dt\n",
    "Eg. think of `̇ẋ = - a (x - xₑ)`, where `a>0` and `xₑ` is the actual equilibrium.\n",
    "Discretizing it with `x^{n+1}exp(at_{n+1}) - x^n exp(at_n) = dt a exp(at_n)` yields the fixed point\n",
    "`x̄ = (exp(-a dt) * dt * a) / (1 - exp(-a * dt))`.\n",
    "We have `x̄ - xₑ → 0` as `dt → 0`.\n",
    "\n",
    "`f(a, k) = k * a * exp(-a * k) / (1 - exp(-a * k))`"
   ],
   "metadata": {}
  }
 ],
 "nbformat_minor": 3,
 "metadata": {
  "language_info": {
   "file_extension": ".jl",
   "mimetype": "application/julia",
   "name": "julia",
   "version": "1.7.2"
  },
  "kernelspec": {
   "name": "julia-1.7",
   "display_name": "Julia 1.7.2",
   "language": "julia"
  }
 },
 "nbformat": 4
}
