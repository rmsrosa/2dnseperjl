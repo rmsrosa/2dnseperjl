{
 "cells": [
  {
   "cell_type": "markdown",
   "source": [
    "# Testing FFTW for fully periodic fluid flows"
   ],
   "metadata": {}
  },
  {
   "cell_type": "markdown",
   "source": [
    "Here we test the methods, in FFTW, to be used in the pseudo-spectral code described previously."
   ],
   "metadata": {}
  },
  {
   "cell_type": "markdown",
   "source": [
    "We start by loading the packages we need:"
   ],
   "metadata": {}
  },
  {
   "outputs": [],
   "cell_type": "code",
   "source": [
    "using FFTW\n",
    "using Plots\n",
    "using Test"
   ],
   "metadata": {},
   "execution_count": null
  },
  {
   "cell_type": "markdown",
   "source": [
    "## The spatial domain and its spatial discretization"
   ],
   "metadata": {}
  },
  {
   "cell_type": "markdown",
   "source": [
    "We consider a square domain of sides $L = 2\\pi$, for which the smallest wavenumber is $\\kappa_0 = 2\\pi/L$."
   ],
   "metadata": {}
  },
  {
   "outputs": [],
   "cell_type": "code",
   "source": [
    "L = 2π\n",
    "κ₀ = 2π/L"
   ],
   "metadata": {},
   "execution_count": null
  },
  {
   "cell_type": "markdown",
   "source": [
    "We set the number $N$ of points for the mesh in each direction, yielding a mesh $(x_i, y_j)_{i, j = 1,\\ldots ,N}$, with $x_N = y_N = L$, and steps $x_{i+1} - x_i = L/N$, and $y_{j+1} - y_j = L/N$. Due to the periodicity, we don't need to store the values corresponding to $i = j = 0$."
   ],
   "metadata": {}
  },
  {
   "outputs": [],
   "cell_type": "code",
   "source": [
    "N = 128\n",
    "x = y = (L/N):(L/N):L\n",
    "nothing"
   ],
   "metadata": {},
   "execution_count": null
  },
  {
   "cell_type": "markdown",
   "source": [
    "## A vorticy function for testing"
   ],
   "metadata": {}
  },
  {
   "cell_type": "markdown",
   "source": [
    "In order to test the methods from [FFTW.jl](http://www.fftw.org), we define a certain vorticity function and its derivatives"
   ],
   "metadata": {}
  },
  {
   "outputs": [],
   "cell_type": "code",
   "source": [
    "vort = sin.(one.(y) * x') .* cos.(3y * one.(x)')\n",
    "dx_vort = cos.(one.(y) * x') .* cos.(3y * one.(x)')\n",
    "dy_vort = - 3 * sin.(one.(y) * x') .* sin.(3y * one.(x)')\n",
    "dd_vort = - sin.(one.(y) * x') .* cos.(3y * one.(x)') - 9 * sin.(one.(y) * x') .* cos.(3y * one.(x)')\n",
    "\n",
    "nothing"
   ],
   "metadata": {},
   "execution_count": null
  },
  {
   "cell_type": "markdown",
   "source": [
    "We may visualize the vorticity as a surface,"
   ],
   "metadata": {}
  },
  {
   "outputs": [],
   "cell_type": "code",
   "source": [
    "surface(x, y, vort, xlabel=\"x\", ylabel=\"y\", zlabel=\"vorticity\")"
   ],
   "metadata": {},
   "execution_count": null
  },
  {
   "cell_type": "markdown",
   "source": [
    "or, better yet, as a heatmap."
   ],
   "metadata": {}
  },
  {
   "outputs": [],
   "cell_type": "code",
   "source": [
    "heatmap(x, y, vort, xlabel=\"x\", ylabel=\"y\")"
   ],
   "metadata": {},
   "execution_count": null
  },
  {
   "cell_type": "markdown",
   "source": [
    "## Testing the direct and inverse discrete Fourier transform"
   ],
   "metadata": {}
  },
  {
   "cell_type": "markdown",
   "source": [
    "We check going back and forth with the real fft and inverse real fft:"
   ],
   "metadata": {}
  },
  {
   "outputs": [],
   "cell_type": "code",
   "source": [
    "@testset \"check composition `irfft ∘ rfft`\" begin\n",
    "    vort_hat = rfft(vort)\n",
    "    vortback = irfft(vort_hat, N)\n",
    "    @test vort ≈ vortback\n",
    "end\n",
    "nothing"
   ],
   "metadata": {},
   "execution_count": null
  },
  {
   "cell_type": "markdown",
   "source": [
    "## Differential operators"
   ],
   "metadata": {}
  },
  {
   "cell_type": "markdown",
   "source": [
    "In order to check the derivatives in spectral space, we define the following operators. Actually, they are just vectors, since derivatives in spectral space act as diagonal operators."
   ],
   "metadata": {}
  },
  {
   "outputs": [],
   "cell_type": "code",
   "source": [
    "Dx_hat = im * κ₀ * [ifelse(k1 ≤ N/2 + 1, k1 - 1, k1 - 1 - N) for k2 in 1:N/2+1, k1 in 1:N]\n",
    "Dy_hat = im * κ₀ * [k2 - 1 for k2 in 1:N/2+1, k1 in 1:N]\n",
    "\n",
    "Delta_hat = - κ₀^2 * [\n",
    "    ifelse(k1 ≤ N/2 + 1, (k1 - 1)^2 + (k2 - 1)^2, (k1 - 1 - N)^2 + (k2 - 1)^2)\n",
    "    for k2 in 1:N/2+1, k1 in 1:N\n",
    "]\n",
    "\n",
    "Hu_hat = - Dy_hat ./ Delta_hat\n",
    "Hu_hat[1, 1] = 0.0\n",
    "Hv_hat = Dx_hat ./ Delta_hat\n",
    "Hv_hat[1, 1] = 0.0\n",
    "\n",
    "nothing"
   ],
   "metadata": {},
   "execution_count": null
  },
  {
   "cell_type": "markdown",
   "source": [
    "## Testing the spectral operators"
   ],
   "metadata": {}
  },
  {
   "cell_type": "markdown",
   "source": [
    "Now we are ready to test the differentiation in spectral space, with the operators just defined."
   ],
   "metadata": {}
  },
  {
   "outputs": [],
   "cell_type": "code",
   "source": [
    "@testset \"Check operators\" begin\n",
    "    vort_hat = rfft(vort)\n",
    "    u_hat = Hu_hat .* vort_hat\n",
    "    v_hat = Hv_hat .* vort_hat\n",
    "    # check derivative dx in spectral space:\n",
    "    @test irfft(Dx_hat .* vort_hat, N) ≈ dx_vort\n",
    "    # check derivative dy in spectral space:\n",
    "    @test irfft(Dy_hat .* vort_hat, N) ≈ dy_vort\n",
    "    # check Laplacian in spectral space:\n",
    "    @test Delta_hat ≈ Dx_hat.^2 .+ Dy_hat.^2\n",
    "    @test irfft(Delta_hat .* vort_hat, N) ≈ dd_vort\n",
    "    # check recovering velocity field from vorticity\n",
    "    @test Dx_hat .* v_hat - Dy_hat .* u_hat ≈ vort_hat\n",
    "end\n",
    "nothing"
   ],
   "metadata": {},
   "execution_count": null
  },
  {
   "cell_type": "markdown",
   "source": [
    "## One-mode steady state"
   ],
   "metadata": {}
  },
  {
   "cell_type": "markdown",
   "source": [
    "For forced-periodic flows, when the forcing function contains a single Fourier mode, there is a corresponding steady state vorticity function corresponding also to a single-mode in Fourier space, which is the same as that for the forcing. Only the energy is different."
   ],
   "metadata": {}
  },
  {
   "cell_type": "markdown",
   "source": [
    "In order to construct such pairs of forcing mode / steady state, we set define the viscosity of the flow, choose the mode to be forced and define the strength of that force:"
   ],
   "metadata": {}
  },
  {
   "outputs": [],
   "cell_type": "code",
   "source": [
    "ν = 1.0e-0 # viscosity\n",
    "κ = (x = 1, y = 2) # forced mode\n",
    "α = (re = 0.1, im = 0.05) # strength\n",
    "\n",
    "nothing"
   ],
   "metadata": {},
   "execution_count": null
  },
  {
   "cell_type": "markdown",
   "source": [
    "With these parameters, we find the curl `g_steady` of the forcing term and the vorticity `vort_steady` of the corresponding steady-state:"
   ],
   "metadata": {}
  },
  {
   "outputs": [],
   "cell_type": "code",
   "source": [
    "g_steady = ν * (\n",
    "    2α.re * κ₀^4 * sum(abs2, κ)^2 * cos.(κ₀ * (κ.x * one.(y) * x' + κ.y * y * one.(x)'))\n",
    "    - 2α.im * κ₀^4 * sum(abs2, κ)^2 * sin.(κ₀ * (κ.x * one.(y) * x' + κ.y * y * one.(x)'))\n",
    ")\n",
    "\n",
    "vort_steady = 2κ₀^2 * sum(abs2, κ) * (\n",
    "    α.re * cos.(κ₀ * (κ.x * one.(y) * x' + κ.y * y * one.(x)'))\n",
    "    - α.im * sin.(κ₀ * (κ.x * one.(y) * x' + κ.y * y * one.(x)'))\n",
    ")\n",
    "nothing"
   ],
   "metadata": {},
   "execution_count": null
  },
  {
   "cell_type": "markdown",
   "source": [
    "Here are some visualizations of the curl of the forcing term and of the vorticity"
   ],
   "metadata": {}
  },
  {
   "outputs": [],
   "cell_type": "code",
   "source": [
    "heatmap(x, y, g_steady, xlabel=\"x\", ylabel=\"y\", title=\"Curl of the forcing term\", titlefont=12)\n",
    "\n",
    "heatmap(x, y, vort_steady, xlabel=\"x\", ylabel=\"y\", title=\"Steady state vorticity\", titlefont=12)\n",
    "\n",
    "nothing"
   ],
   "metadata": {},
   "execution_count": null
  },
  {
   "cell_type": "markdown",
   "source": [
    "The discrete Fourier transform of this vector fields are given as"
   ],
   "metadata": {}
  },
  {
   "outputs": [],
   "cell_type": "code",
   "source": [
    "g_steady_hat = rfft(g_steady)\n",
    "\n",
    "vort_steady_hat = rfft(vort_steady)\n",
    "\n",
    "nothing"
   ],
   "metadata": {},
   "execution_count": null
  },
  {
   "cell_type": "markdown",
   "source": [
    "## Testing the steady state"
   ],
   "metadata": {}
  },
  {
   "cell_type": "markdown",
   "source": [
    "We are now ready to test the steadyness of this vorticity field:"
   ],
   "metadata": {}
  },
  {
   "outputs": [],
   "cell_type": "code",
   "source": [
    "@testset \"Check single-mode stable steady state\" begin\n",
    "    u_steady_hat = Hu_hat .* vort_steady_hat\n",
    "    v_steady_hat = Hv_hat .* vort_steady_hat\n",
    "\n",
    "    u_steady = irfft(u_steady_hat, N)\n",
    "    v_steady = irfft(v_steady_hat, N)\n",
    "\n",
    "    vort_steady_back = irfft(vort_steady_hat, N)\n",
    "\n",
    "    wu_steady_hat = rfft(vort_steady_back .* u_steady)\n",
    "    wv_steady_hat = rfft(vort_steady_back .* v_steady)\n",
    "\n",
    "    rhs_steady = g_steady_hat .+ Delta_hat .* vort_steady_hat .- Dx_hat .* wu_steady_hat .- Dy_hat .* wv_steady_hat\n",
    "\n",
    "    vort_steady_sol_hat = - g_steady_hat ./ Delta_hat\n",
    "    vort_steady_sol_hat[1, 1] = 0.0im\n",
    "    # Vanishing bilinear term on one-mode steady state\n",
    "    @test maximum(abs.(Dx_hat .* wu_steady_hat .+ Dy_hat .* wv_steady_hat)) ≤ √eps()\n",
    "    # Vanishing RHS on steady state\n",
    "    @test maximum(abs.(rhs_steady)) ≤ √eps()\n",
    "    # Vanishing linear Stokes on steady state\n",
    "    @test maximum(abs.(g_steady_hat .+ Delta_hat .* vort_steady_hat)) ≤ √eps()\n",
    "\n",
    "    # Steady state equation\n",
    "    @test g_steady_hat ≈ - Delta_hat .* vort_steady_hat ≈ - Delta_hat .* vort_steady_hat .- Dx_hat .* wu_steady_hat .- Dy_hat .* wv_steady_hat\n",
    "\n",
    "    # Steady state solution\n",
    "    @test vort_steady_sol_hat ≈ vort_steady_hat\n",
    "end\n",
    "nothing"
   ],
   "metadata": {},
   "execution_count": null
  }
 ],
 "nbformat_minor": 3,
 "metadata": {
  "language_info": {
   "file_extension": ".jl",
   "mimetype": "application/julia",
   "name": "julia",
   "version": "1.7.2"
  },
  "kernelspec": {
   "name": "julia-1.7",
   "display_name": "Julia 1.7.2",
   "language": "julia"
  }
 },
 "nbformat": 4
}
