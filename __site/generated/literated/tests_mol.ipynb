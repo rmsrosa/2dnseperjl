{
 "cells": [
  {
   "cell_type": "markdown",
   "source": [
    "# Evolution via method of lines"
   ],
   "metadata": {}
  },
  {
   "outputs": [],
   "cell_type": "code",
   "source": [
    "using FFTW\n",
    "using Plots\n",
    "using OrdinaryDiffEq\n",
    "using LinearAlgebra: norm, mul!\n",
    "using Test\n",
    "using BenchmarkTools\n",
    "using Random\n",
    "\n",
    "@info \"Threads: $(FFTW.nthreads())\""
   ],
   "metadata": {},
   "execution_count": null
  },
  {
   "cell_type": "markdown",
   "source": [
    "## Operators"
   ],
   "metadata": {}
  },
  {
   "outputs": [],
   "cell_type": "code",
   "source": [
    "function get_operators(N, κ₀)\n",
    "    # Differentiation in spectral space\n",
    "    Dx_hat = im * κ₀ * [\n",
    "        ifelse(k1 ≤ div(N, 2) + 1, k1 - 1, k1 - 1 - N) for k2 in 1:div(N, 2)+1, k1 in 1:N\n",
    "    ]\n",
    "    Dy_hat = im * κ₀ * [k2 - 1 for k2 in 1:div(N, 2)+1, k1 in 1:N]\n",
    "\n",
    "    Delta_hat = - κ₀^2 * [\n",
    "        ifelse(k1 ≤ div(N, 2) + 1, (k1 - 1)^2 + (k2 - 1)^2, (k1 - 1 - N)^2 + (k2 - 1)^2)\n",
    "        for k2 in 1:div(N, 2)+1, k1 in 1:N\n",
    "    ]\n",
    "\n",
    "    # For the Basdevant formulation\n",
    "    DxsqDysq_hat = Dx_hat.^2 .- Dy_hat.^2\n",
    "    Dxy_hat = Dx_hat .* Dy_hat\n",
    "\n",
    "    # Recovering of the velocity field from the vorticity\n",
    "    Hu_hat = - Dy_hat ./ Delta_hat\n",
    "    Hu_hat[1, 1] = 0.0\n",
    "    Hv_hat = Dx_hat ./ Delta_hat\n",
    "    Hv_hat[1, 1] = 0.0\n",
    "\n",
    "    return Dx_hat, Dy_hat, Delta_hat, Hu_hat, Hv_hat, DxsqDysq_hat, Dxy_hat\n",
    "end"
   ],
   "metadata": {},
   "execution_count": null
  },
  {
   "cell_type": "markdown",
   "source": [
    "Methods to generate a scalar field from a list of wavenumbers and amplitudes"
   ],
   "metadata": {}
  },
  {
   "outputs": [],
   "cell_type": "code",
   "source": [
    "function field_from_modes(L, N, modes::Matrix{<:Integer}, amps::Matrix{<:Real})\n",
    "    κ₀ = 2π/L\n",
    "    x = y = (L/N):(L/N):L\n",
    "    field = sum(\n",
    "        [\n",
    "            2κ₀^2 * (k[1]^2 + k[2]^2) * (\n",
    "                a[1] * cos.(κ₀ * (k[1] * one.(y) * x' + k[2] * y * one.(x)'))\n",
    "                - a[2] * sin.(κ₀ * (k[1] * one.(y) * x' + k[2] * y * one.(x)'))\n",
    "            )\n",
    "            for (k, a) in zip(eachrow(modes), eachrow(amps))\n",
    "        ]\n",
    "    )\n",
    "    return field\n",
    "end\n",
    "\n",
    "function field_from_modes(rng::AbstractRNG, L, N, num_modes::Int)\n",
    "\n",
    "    modes = rand(rng, 1:div(N,10), num_modes, 2)\n",
    "    amps = rand(rng, num_modes, 2)\n",
    "\n",
    "    field = field_from_modes(L, N, modes, amps)\n",
    "\n",
    "    return field\n",
    "end\n",
    "\n",
    "field_from_modes(L, N, num_modes::Int) = field_from_modes(Xoshiro(), L, N, num_modes)"
   ],
   "metadata": {},
   "execution_count": null
  },
  {
   "cell_type": "markdown",
   "source": [
    "Differential equations"
   ],
   "metadata": {}
  },
  {
   "outputs": [],
   "cell_type": "code",
   "source": [
    "function nsepervort_hat_rhs!(dvorhattdt, vort_hat, params, t)\n",
    "    operators, vars, auxs, plans = params\n",
    "\n",
    "    Dx_hat, Dy_hat, Delta_hat, Hu_hat, Hv_hat,\n",
    "        DxsqDysq_hat, Dxy_hat = operators\n",
    "    ν, g_hat, N, Nsub = vars\n",
    "    u_hat, v_hat, u, v, uv, v2u2, uv_hat, v2u2_hat = auxs\n",
    "    plan, plan_inv = plans\n",
    "\n",
    "    vort_hat[div(Nsub,2) + 1:end, :] .= 0.0im\n",
    "    vort_hat[:, div(Nsub,2) + 1:div(N,2) + div(Nsub,2)] .= 0.0im\n",
    "\n",
    "    u_hat .= Hu_hat .* vort_hat\n",
    "    v_hat .= Hv_hat .* vort_hat\n",
    "\n",
    "    mul!(u, plan_inv, u_hat)\n",
    "    mul!(v, plan_inv, v_hat)\n",
    "\n",
    "    uv .= u .* v\n",
    "    v2u2 .= v.^2 .- u.^2\n",
    "    mul!(uv_hat, plan, uv)\n",
    "    mul!(v2u2_hat, plan, v2u2)\n",
    "\n",
    "    dvorhattdt .= g_hat .+ ν .* Delta_hat .* vort_hat .- DxsqDysq_hat .* uv_hat .- Dxy_hat .* v2u2_hat\n",
    "\n",
    "    # dealiasing\n",
    "    dvorhattdt[div(Nsub,2) + 1:end, :] .= 0.0im\n",
    "    dvorhattdt[:, div(Nsub,2) + 1:div(N,2) + div(Nsub,2)] .= 0.0im\n",
    "\n",
    "    return dvorhattdt\n",
    "end"
   ],
   "metadata": {},
   "execution_count": null
  },
  {
   "cell_type": "markdown",
   "source": [
    "## The spatial domain and its discretization"
   ],
   "metadata": {}
  },
  {
   "outputs": [],
   "cell_type": "code",
   "source": [
    "L = 2π\n",
    "κ₀ = 2π/L\n",
    "N = 128\n",
    "Nsub = 84\n",
    "x = y = (L/N):(L/N):L"
   ],
   "metadata": {},
   "execution_count": null
  },
  {
   "cell_type": "markdown",
   "source": [
    "## Test convergence to one-mode steady state"
   ],
   "metadata": {}
  },
  {
   "outputs": [],
   "cell_type": "code",
   "source": [
    "ν = 1.0e-0 # viscosity\n",
    "\n",
    "Dx_hat, Dy_hat, Delta_hat, Hu_hat, Hv_hat, DxsqDysq_hat, Dxy_hat = get_operators(N, κ₀)\n",
    "\n",
    "vort_init = field_from_modes(L, N, 4)\n",
    "vort_init_hat = rfft(vort_init)\n",
    "\n",
    "g_steady = field_from_modes(L, N, 1)\n",
    "g_steady_hat = rfft(g_steady)\n",
    "\n",
    "vort_steady_hat = - g_steady_hat ./ Delta_hat\n",
    "vort_steady_hat[1, 1] = 0.0im\n",
    "vort_steady = irfft(vort_steady_hat, N)\n",
    "\n",
    "vort_hat = copy(vort_init_hat)\n",
    "vort = irfft(vort_hat, N)\n",
    "\n",
    "u_hat = similar(vort_hat)\n",
    "v_hat = similar(vort_hat)\n",
    "u = similar(vort)\n",
    "v = similar(vort)\n",
    "uv = similar(vort)\n",
    "v2u2 = similar(vort)\n",
    "uv_hat = similar(vort_hat)\n",
    "v2u2_hat = similar(vort_hat)\n",
    "plan = plan_rfft(vort, flags=FFTW.MEASURE)\n",
    "plan_inv = plan_irfft(vort_hat, N, flags=FFTW.MEASURE)\n",
    "\n",
    "operators = Dx_hat, Dy_hat, Delta_hat, Hu_hat, Hv_hat, DxsqDysq_hat, Dxy_hat\n",
    "vars = ν, g_steady_hat, N, Nsub\n",
    "auxs = u_hat, v_hat, u, v, uv, v2u2, uv_hat, v2u2_hat\n",
    "plans = plan, plan_inv\n",
    "\n",
    "params = (\n",
    "    operators,\n",
    "    vars,\n",
    "    auxs,\n",
    "    plans\n",
    ")\n",
    "\n",
    "nothing"
   ],
   "metadata": {},
   "execution_count": null
  },
  {
   "outputs": [],
   "cell_type": "code",
   "source": [
    "tspan = (0.0, 10.0)\n",
    "\n",
    "prob = ODEProblem(nsepervort_hat_rhs!, vort_init_hat, tspan, params)\n",
    "nothing"
   ],
   "metadata": {},
   "execution_count": null
  },
  {
   "outputs": [],
   "cell_type": "code",
   "source": [
    "OrdinaryDiffEq.ForwardDiff.can_dual(::Type{ComplexF64}) = true\n",
    "\n",
    "sol = solve(prob, Vern9()) # QNDF() etc.\n",
    "\n",
    "sol.retcode"
   ],
   "metadata": {},
   "execution_count": null
  },
  {
   "cell_type": "markdown",
   "source": [
    "Distância entre a solução estacionária e a solução ao final do intervalo de tempo."
   ],
   "metadata": {}
  },
  {
   "outputs": [],
   "cell_type": "code",
   "source": [
    "norm(sol.u[end] - vort_steady_hat) * L/N /N"
   ],
   "metadata": {},
   "execution_count": null
  },
  {
   "outputs": [],
   "cell_type": "code",
   "source": [
    "vort = irfft(sol.u[end], N)\n",
    "nothing"
   ],
   "metadata": {},
   "execution_count": null
  },
  {
   "cell_type": "markdown",
   "source": [
    "No espaço físico:"
   ],
   "metadata": {}
  },
  {
   "outputs": [],
   "cell_type": "code",
   "source": [
    "norm(vort .- vort_steady) * L / N"
   ],
   "metadata": {},
   "execution_count": null
  },
  {
   "cell_type": "markdown",
   "source": [
    "Na norma do máximo:"
   ],
   "metadata": {}
  },
  {
   "outputs": [],
   "cell_type": "code",
   "source": [
    "maximum(abs, vort .- vort_steady)"
   ],
   "metadata": {},
   "execution_count": null
  },
  {
   "outputs": [],
   "cell_type": "code",
   "source": [
    "heatmap(x, y, vort, xlabel=\"x\", ylabel=\"y\", title=\"vorticity\", titlefont=12)"
   ],
   "metadata": {},
   "execution_count": null
  },
  {
   "outputs": [],
   "cell_type": "code",
   "source": [
    "surface(x, y, vort, xlabel=\"x\", ylabel=\"y\", title=\"vorticity\", titlefont=12)"
   ],
   "metadata": {},
   "execution_count": null
  },
  {
   "outputs": [],
   "cell_type": "code",
   "source": [
    "surface(x, y, vort .- vort_steady, xlabel=\"x\", ylabel=\"y\", title=\"vorticity\", titlefont=12)"
   ],
   "metadata": {},
   "execution_count": null
  },
  {
   "cell_type": "markdown",
   "source": [
    "We can check how the $L^2$ distance of the vorticity to the steady state evolves."
   ],
   "metadata": {}
  },
  {
   "outputs": [],
   "cell_type": "code",
   "source": [
    "error = [norm(sol.u[n] .- vort_steady_hat) * L/N / N for n in eachindex(sol.u)]\n",
    "nothing"
   ],
   "metadata": {},
   "execution_count": null
  },
  {
   "outputs": [],
   "cell_type": "code",
   "source": [
    "plt1 = plot(sol.t, error, title=\"Enstrophy convergence\", titlefont = 10, xaxis=\"time\", yaxis = \"enstrophy\", label=false)\n",
    "\n",
    "plt2 = plot(sol.t[1:div(end, 100)], error[1:div(end, 100)], title=\"Enstrophy convergence\", titlefont = 10, xaxis=\"time\", yaxis = \"enstrophy\", label=false)\n",
    "\n",
    "plt3 = plot(sol.t[div(end,100):div(end, 50)], error[div(end,100):div(end, 50)], title=\"Enstrophy convergence\", titlefont = 10, xaxis=\"time\", yaxis = \"enstrophy\", label=false)\n",
    "\n",
    "plt4 = plot(sol.t[end-1000:end], error[end-1000:end], title=\"Enstrophy convergence\", titlefont = 10, xaxis=\"time\", yaxis = \"enstrophy\", label=false)\n",
    "\n",
    "plot(plt1, plt2, plt3, plt4, layout = 4)"
   ],
   "metadata": {},
   "execution_count": null
  }
 ],
 "nbformat_minor": 3,
 "metadata": {
  "language_info": {
   "file_extension": ".jl",
   "mimetype": "application/julia",
   "name": "julia",
   "version": "1.7.2"
  },
  "kernelspec": {
   "name": "julia-1.7",
   "display_name": "Julia 1.7.2",
   "language": "julia"
  }
 },
 "nbformat": 4
}
