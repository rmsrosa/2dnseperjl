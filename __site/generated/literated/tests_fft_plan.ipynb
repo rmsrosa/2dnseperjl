{
 "cells": [
  {
   "cell_type": "markdown",
   "source": [
    "# FFTW plans"
   ],
   "metadata": {}
  },
  {
   "cell_type": "markdown",
   "source": [
    "Here we test planning the FFTW and run some simple benchmarks."
   ],
   "metadata": {}
  },
  {
   "cell_type": "markdown",
   "source": [
    "Here are the packages we need."
   ],
   "metadata": {}
  },
  {
   "outputs": [],
   "cell_type": "code",
   "source": [
    "using FFTW\n",
    "using Plots\n",
    "using LinearAlgebra: mul!\n",
    "using Test\n",
    "using Random\n",
    "using BenchmarkTools\n",
    "\n",
    "@info \"Threads: $(FFTW.nthreads())\""
   ],
   "metadata": {},
   "execution_count": null
  },
  {
   "cell_type": "markdown",
   "source": [
    "## Testing setup"
   ],
   "metadata": {}
  },
  {
   "cell_type": "markdown",
   "source": [
    "### The spatial domain and discretization"
   ],
   "metadata": {}
  },
  {
   "outputs": [],
   "cell_type": "code",
   "source": [
    "L = 2π\n",
    "κ₀ = 2π/L\n",
    "N = 144 # 2^4 * 3^2\n",
    "x = y = (L/N):(L/N):L\n",
    "nothing"
   ],
   "metadata": {},
   "execution_count": null
  },
  {
   "cell_type": "markdown",
   "source": [
    "### Vorticity field for the tests"
   ],
   "metadata": {}
  },
  {
   "cell_type": "markdown",
   "source": [
    "We randomly excite a certain number of modes."
   ],
   "metadata": {}
  },
  {
   "outputs": [],
   "cell_type": "code",
   "source": [
    "rng = Xoshiro(123)\n",
    "num_modes = 8\n",
    "vort = sum(\n",
    "    [\n",
    "        2κ₀^2 * (kx^2 + ky^2) * (\n",
    "            ar * cos.(κ₀ * (kx * one.(y) * x' + ky * y * one.(x)'))\n",
    "            - ai * sin.(κ₀ * (kx * one.(y) * x' + ky * y * one.(x)'))\n",
    "        )\n",
    "        for (kx, ky, ar, ai) in zip(\n",
    "            rand(rng, 1:div(N,4), num_modes),\n",
    "            rand(rng, 1:div(N,4), num_modes),\n",
    "            10*rand(rng, num_modes),\n",
    "            10*rand(rng, num_modes)\n",
    "        )\n",
    "    ]\n",
    ")\n",
    "\n",
    "vort_hat = rfft(vort)\n",
    "nothing"
   ],
   "metadata": {},
   "execution_count": null
  },
  {
   "cell_type": "markdown",
   "source": [
    "Visualizing the vorticity field"
   ],
   "metadata": {}
  },
  {
   "outputs": [],
   "cell_type": "code",
   "source": [
    "heatmap(x, y, vort, xlabel=\"x\", ylabel=\"y\", title=\"Vorticity field\", titlefont=12)"
   ],
   "metadata": {},
   "execution_count": null
  },
  {
   "cell_type": "markdown",
   "source": [
    "### Planning the FFTWs"
   ],
   "metadata": {}
  },
  {
   "outputs": [],
   "cell_type": "code",
   "source": [
    "plan_estimate = plan_rfft(vort); # default is FFTW.ESTIMATE\n",
    "plan_inv_estimate = plan_irfft(vort_hat, N);\n",
    "plan_measure = plan_rfft(vort, flags=FFTW.MEASURE);\n",
    "plan_inv_measure = plan_irfft(vort_hat, N, flags=FFTW.MEASURE);\n",
    "plan_patient = plan_rfft(vort, flags=FFTW.PATIENT);\n",
    "plan_inv_patient = plan_irfft(vort_hat, N, flags=FFTW.PATIENT);\n",
    "plan_exhaustive = plan_rfft(vort, flags=FFTW.EXHAUSTIVE);\n",
    "plan_inv_exhaustive = plan_irfft(vort_hat, N, flags=FFTW.EXHAUSTIVE);"
   ],
   "metadata": {},
   "execution_count": null
  },
  {
   "cell_type": "markdown",
   "source": [
    "## Sanity tests of the different plans"
   ],
   "metadata": {}
  },
  {
   "outputs": [],
   "cell_type": "code",
   "source": [
    "@testset \"Planned FFTW with ESTIMATE\" begin\n",
    "    w_hat = plan_estimate * vort\n",
    "    w_hat_org = copy(w_hat)\n",
    "    @test w_hat ≈ rfft(vort)\n",
    "    @test plan_inv_estimate * w_hat ≈ vort\n",
    "    @test plan_inv_estimate * w_hat ≈ irfft(rfft(vort), N)\n",
    "    w_hat_mul = similar(w_hat)\n",
    "    mul!(w_hat_mul, plan_estimate, vort)\n",
    "    @test w_hat ≈ w_hat_mul\n",
    "    vort_back = similar(vort)\n",
    "    mul!(vort_back, plan_inv_estimate, w_hat) # careful, inverse with mul! may mutate w_hat as well\n",
    "    @test vort_back ≈ vort\n",
    "end\n",
    "nothing"
   ],
   "metadata": {},
   "execution_count": null
  },
  {
   "outputs": [],
   "cell_type": "code",
   "source": [
    "@testset \"Planned FFTW with MEASURE\" begin\n",
    "    w_hat = plan_measure * vort\n",
    "    @test w_hat ≈ rfft(vort)\n",
    "    @test plan_inv_measure * w_hat ≈ vort\n",
    "    @test plan_inv_measure * w_hat ≈ irfft(rfft(vort), N)\n",
    "    w_hat_back = similar(w_hat)\n",
    "    mul!(w_hat_back, plan_measure, vort)\n",
    "    @test w_hat ≈ w_hat_back\n",
    "    vort_back = similar(vort)\n",
    "    mul!(vort_back, plan_inv_measure, w_hat)  # careful, inverse with mul! may mutate w_hat as well\n",
    "    @test vort_back ≈ vort\n",
    "end\n",
    "nothing"
   ],
   "metadata": {},
   "execution_count": null
  },
  {
   "outputs": [],
   "cell_type": "code",
   "source": [
    "@testset \"Planned FFTW with PATIENT\" begin\n",
    "    w_hat = plan_patient * vort\n",
    "    @test w_hat ≈ rfft(vort)\n",
    "    @test plan_inv_patient * w_hat ≈ vort\n",
    "    @test plan_inv_patient * w_hat ≈ irfft(rfft(vort), N)\n",
    "    w_hat_back = similar(w_hat)\n",
    "    mul!(w_hat_back, plan_patient, vort)\n",
    "    @test w_hat ≈ w_hat_back\n",
    "    vort_back = similar(vort)\n",
    "    mul!(vort_back, plan_inv_patient, w_hat)  # careful, inverse with mul! may mutate w_hat as well\n",
    "    @test vort_back ≈ vort\n",
    "end\n",
    "nothing"
   ],
   "metadata": {},
   "execution_count": null
  },
  {
   "outputs": [],
   "cell_type": "code",
   "source": [
    "@testset \"Planned FFTW with EXHAUSTIVE\" begin\n",
    "    w_hat = plan_exhaustive * vort\n",
    "    @test w_hat ≈ rfft(vort)\n",
    "    @test plan_inv_exhaustive * w_hat ≈ vort\n",
    "    @test plan_inv_exhaustive * w_hat ≈ irfft(rfft(vort), N)\n",
    "    w_hat_back = similar(w_hat)\n",
    "    mul!(w_hat_back, plan_exhaustive, vort)\n",
    "    @test w_hat ≈ w_hat_back\n",
    "    vort_back = similar(vort)\n",
    "    mul!(vort_back, plan_inv_exhaustive, w_hat) # careful, inverse with mul! may mutate w_hat as well\n",
    "    @test vort_back ≈ vort\n",
    "end\n",
    "nothing"
   ],
   "metadata": {},
   "execution_count": null
  },
  {
   "cell_type": "markdown",
   "source": [
    "## Timings and allocations"
   ],
   "metadata": {}
  },
  {
   "cell_type": "markdown",
   "source": [
    "Let us look at it with `@btime`. **Notice that `mul!` does not allocate and is slightly faster.**"
   ],
   "metadata": {}
  },
  {
   "outputs": [],
   "cell_type": "code",
   "source": [
    "@info \"FFTW no plan\"\n",
    "@btime rfft(w) setup = (w = copy(vort));\n",
    "\n",
    "@info \"FFTW plan with ESTIMATE\"\n",
    "@btime p * w setup = (p = $plan_estimate; w = copy($vort));\n",
    "@info \"FFTW plan with ESTIMATE and mul!\"\n",
    "@btime mul!(w_hat, p, w) setup = (\n",
    "    w_hat = copy($vort_hat);\n",
    "    p = $plan_estimate;\n",
    "    w = copy($vort)\n",
    ");\n",
    "\n",
    "@info \"FFTW plan with MEASURE\"\n",
    "@btime p * w setup = (p = $plan_measure; w = copy($vort));\n",
    "@info \"FFTW plan with MEASURE and mul!\"\n",
    "@btime mul!(w_hat, p, w) setup = (\n",
    "    w_hat = copy($vort_hat);\n",
    "    p = $plan_measure;\n",
    "    w = copy($vort)\n",
    ");\n",
    "\n",
    "@info \"FFTW plan with PATIENT\"\n",
    "@btime p * w setup = (p = $plan_patient; w = copy($vort));\n",
    "@info \"FFTW plan with PATIENT and mul!\"\n",
    "@btime mul!(w_hat, p, w) setup = (\n",
    "    w_hat = copy($vort_hat);\n",
    "    p = $plan_patient;\n",
    "    w = copy($vort)\n",
    ");\n",
    "\n",
    "@info \"FFTW plan with EXHAUSTIVE\"\n",
    "@btime p * w setup = (p = $plan_exhaustive; w = copy($vort));\n",
    "@info \"FFTW plan with EXHAUSTIVE and mul!\"\n",
    "@btime mul!(w_hat, p, w) setup = (\n",
    "    w_hat = copy($vort_hat);\n",
    "    p = $plan_exhaustive;\n",
    "    w = copy($vort)\n",
    ");"
   ],
   "metadata": {},
   "execution_count": null
  },
  {
   "cell_type": "markdown",
   "source": [
    "## Direct and inverse transforms"
   ],
   "metadata": {}
  },
  {
   "cell_type": "markdown",
   "source": [
    "Here we compare the timings between direct and inverse transforms. We restrict this to using `mul!`, since this is what we will use at the end. **Notice the direct transform is slightly faster than the inverse transform.**"
   ],
   "metadata": {}
  },
  {
   "cell_type": "markdown",
   "source": [
    "Only one note of **warning:** when using `mul!` with an inverse transform plan, the last argument may mutate. Type `@edit mul!(vort, plan_inv_estimate.p, vort_hat)` to see where this happens."
   ],
   "metadata": {}
  },
  {
   "outputs": [],
   "cell_type": "code",
   "source": [
    "@info \"Direct and inverse FFTW plan with ESTIMATE and mul!\"\n",
    "@btime mul!(w_hat, p, w) setup = (\n",
    "    w_hat = similar($vort_hat);\n",
    "    p = $plan_estimate;\n",
    "    w = copy($vort)\n",
    ");\n",
    "@btime mul!(w, p, w_hat) setup = (\n",
    "    w = similar($vort);\n",
    "    p = $plan_inv_estimate;\n",
    "    w_hat = copy($vort_hat)\n",
    ");\n",
    "\n",
    "@info \"Direct and inverse FFTW plan with MEASURE and mul!\"\n",
    "@btime mul!(w_hat, p, w) setup = (\n",
    "    w_hat = similar($vort_hat);\n",
    "    p = $plan_measure;\n",
    "    w = copy($vort)\n",
    ");\n",
    "@btime mul!(w, p, w_hat) setup = (\n",
    "    w = similar($vort);\n",
    "    p = $plan_inv_measure;\n",
    "    w_hat = copy($vort_hat)\n",
    ");\n",
    "\n",
    "@info \"Direct and inverse FFTW plan with PATIENT and mul!\"\n",
    "@btime mul!(w_hat, p, w) setup = (\n",
    "    w_hat = similar($vort_hat);\n",
    "    p = $plan_patient;\n",
    "    w = copy($vort)\n",
    ");\n",
    "@btime mul!(w, p, w_hat) setup = (\n",
    "    w = similar($vort);\n",
    "    p = $plan_inv_patient;\n",
    "    w_hat = copy($vort_hat)\n",
    ");\n",
    "\n",
    "@info \"Direct and inverse FFTW plan with EXHAUSTIVE and mul!\"\n",
    "@btime mul!(w_hat, p, w) setup = (\n",
    "    w_hat = similar($vort_hat);\n",
    "    p = $plan_exhaustive;\n",
    "    w = copy($vort)\n",
    ");\n",
    "@btime mul!(w, p, w_hat) setup = (\n",
    "    w = similar($vort);\n",
    "    p = $plan_inv_exhaustive;\n",
    "    w_hat = copy($vort_hat)\n",
    ");"
   ],
   "metadata": {},
   "execution_count": null
  }
 ],
 "nbformat_minor": 3,
 "metadata": {
  "language_info": {
   "file_extension": ".jl",
   "mimetype": "application/julia",
   "name": "julia",
   "version": "1.7.2"
  },
  "kernelspec": {
   "name": "julia-1.7",
   "display_name": "Julia 1.7.2",
   "language": "julia"
  }
 },
 "nbformat": 4
}
